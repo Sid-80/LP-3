{
 "cells": [
  {
   "cell_type": "code",
   "execution_count": 1,
   "id": "12aa48aa-c3d9-4358-a184-0e98636a3d51",
   "metadata": {},
   "outputs": [],
   "source": [
    "import pandas as pd\n",
    "import numpy as np\n",
    "import seaborn as sns"
   ]
  },
  {
   "cell_type": "code",
   "execution_count": 2,
   "id": "a30c61ce-dde6-4e8f-ab86-ac966e7b563c",
   "metadata": {},
   "outputs": [
    {
     "data": {
      "text/html": [
       "<div>\n",
       "<style scoped>\n",
       "    .dataframe tbody tr th:only-of-type {\n",
       "        vertical-align: middle;\n",
       "    }\n",
       "\n",
       "    .dataframe tbody tr th {\n",
       "        vertical-align: top;\n",
       "    }\n",
       "\n",
       "    .dataframe thead th {\n",
       "        text-align: right;\n",
       "    }\n",
       "</style>\n",
       "<table border=\"1\" class=\"dataframe\">\n",
       "  <thead>\n",
       "    <tr style=\"text-align: right;\">\n",
       "      <th></th>\n",
       "      <th>Email No.</th>\n",
       "      <th>the</th>\n",
       "      <th>to</th>\n",
       "      <th>ect</th>\n",
       "      <th>and</th>\n",
       "      <th>for</th>\n",
       "      <th>of</th>\n",
       "      <th>a</th>\n",
       "      <th>you</th>\n",
       "      <th>hou</th>\n",
       "      <th>...</th>\n",
       "      <th>connevey</th>\n",
       "      <th>jay</th>\n",
       "      <th>valued</th>\n",
       "      <th>lay</th>\n",
       "      <th>infrastructure</th>\n",
       "      <th>military</th>\n",
       "      <th>allowing</th>\n",
       "      <th>ff</th>\n",
       "      <th>dry</th>\n",
       "      <th>Prediction</th>\n",
       "    </tr>\n",
       "  </thead>\n",
       "  <tbody>\n",
       "    <tr>\n",
       "      <th>0</th>\n",
       "      <td>Email 1</td>\n",
       "      <td>0</td>\n",
       "      <td>0</td>\n",
       "      <td>1</td>\n",
       "      <td>0</td>\n",
       "      <td>0</td>\n",
       "      <td>0</td>\n",
       "      <td>2</td>\n",
       "      <td>0</td>\n",
       "      <td>0</td>\n",
       "      <td>...</td>\n",
       "      <td>0</td>\n",
       "      <td>0</td>\n",
       "      <td>0</td>\n",
       "      <td>0</td>\n",
       "      <td>0</td>\n",
       "      <td>0</td>\n",
       "      <td>0</td>\n",
       "      <td>0</td>\n",
       "      <td>0</td>\n",
       "      <td>0</td>\n",
       "    </tr>\n",
       "    <tr>\n",
       "      <th>1</th>\n",
       "      <td>Email 2</td>\n",
       "      <td>8</td>\n",
       "      <td>13</td>\n",
       "      <td>24</td>\n",
       "      <td>6</td>\n",
       "      <td>6</td>\n",
       "      <td>2</td>\n",
       "      <td>102</td>\n",
       "      <td>1</td>\n",
       "      <td>27</td>\n",
       "      <td>...</td>\n",
       "      <td>0</td>\n",
       "      <td>0</td>\n",
       "      <td>0</td>\n",
       "      <td>0</td>\n",
       "      <td>0</td>\n",
       "      <td>0</td>\n",
       "      <td>0</td>\n",
       "      <td>1</td>\n",
       "      <td>0</td>\n",
       "      <td>0</td>\n",
       "    </tr>\n",
       "    <tr>\n",
       "      <th>2</th>\n",
       "      <td>Email 3</td>\n",
       "      <td>0</td>\n",
       "      <td>0</td>\n",
       "      <td>1</td>\n",
       "      <td>0</td>\n",
       "      <td>0</td>\n",
       "      <td>0</td>\n",
       "      <td>8</td>\n",
       "      <td>0</td>\n",
       "      <td>0</td>\n",
       "      <td>...</td>\n",
       "      <td>0</td>\n",
       "      <td>0</td>\n",
       "      <td>0</td>\n",
       "      <td>0</td>\n",
       "      <td>0</td>\n",
       "      <td>0</td>\n",
       "      <td>0</td>\n",
       "      <td>0</td>\n",
       "      <td>0</td>\n",
       "      <td>0</td>\n",
       "    </tr>\n",
       "    <tr>\n",
       "      <th>3</th>\n",
       "      <td>Email 4</td>\n",
       "      <td>0</td>\n",
       "      <td>5</td>\n",
       "      <td>22</td>\n",
       "      <td>0</td>\n",
       "      <td>5</td>\n",
       "      <td>1</td>\n",
       "      <td>51</td>\n",
       "      <td>2</td>\n",
       "      <td>10</td>\n",
       "      <td>...</td>\n",
       "      <td>0</td>\n",
       "      <td>0</td>\n",
       "      <td>0</td>\n",
       "      <td>0</td>\n",
       "      <td>0</td>\n",
       "      <td>0</td>\n",
       "      <td>0</td>\n",
       "      <td>0</td>\n",
       "      <td>0</td>\n",
       "      <td>0</td>\n",
       "    </tr>\n",
       "    <tr>\n",
       "      <th>4</th>\n",
       "      <td>Email 5</td>\n",
       "      <td>7</td>\n",
       "      <td>6</td>\n",
       "      <td>17</td>\n",
       "      <td>1</td>\n",
       "      <td>5</td>\n",
       "      <td>2</td>\n",
       "      <td>57</td>\n",
       "      <td>0</td>\n",
       "      <td>9</td>\n",
       "      <td>...</td>\n",
       "      <td>0</td>\n",
       "      <td>0</td>\n",
       "      <td>0</td>\n",
       "      <td>0</td>\n",
       "      <td>0</td>\n",
       "      <td>0</td>\n",
       "      <td>0</td>\n",
       "      <td>1</td>\n",
       "      <td>0</td>\n",
       "      <td>0</td>\n",
       "    </tr>\n",
       "  </tbody>\n",
       "</table>\n",
       "<p>5 rows × 3002 columns</p>\n",
       "</div>"
      ],
      "text/plain": [
       "  Email No.  the  to  ect  and  for  of    a  you  hou  ...  connevey  jay  \\\n",
       "0   Email 1    0   0    1    0    0   0    2    0    0  ...         0    0   \n",
       "1   Email 2    8  13   24    6    6   2  102    1   27  ...         0    0   \n",
       "2   Email 3    0   0    1    0    0   0    8    0    0  ...         0    0   \n",
       "3   Email 4    0   5   22    0    5   1   51    2   10  ...         0    0   \n",
       "4   Email 5    7   6   17    1    5   2   57    0    9  ...         0    0   \n",
       "\n",
       "   valued  lay  infrastructure  military  allowing  ff  dry  Prediction  \n",
       "0       0    0               0         0         0   0    0           0  \n",
       "1       0    0               0         0         0   1    0           0  \n",
       "2       0    0               0         0         0   0    0           0  \n",
       "3       0    0               0         0         0   0    0           0  \n",
       "4       0    0               0         0         0   1    0           0  \n",
       "\n",
       "[5 rows x 3002 columns]"
      ]
     },
     "execution_count": 2,
     "metadata": {},
     "output_type": "execute_result"
    }
   ],
   "source": [
    "df = pd.read_csv('emails.csv')\n",
    "df.head()"
   ]
  },
  {
   "cell_type": "code",
   "execution_count": 3,
   "id": "86a1c929-7041-4914-a288-82c763a36561",
   "metadata": {},
   "outputs": [
    {
     "data": {
      "text/plain": [
       "0"
      ]
     },
     "execution_count": 3,
     "metadata": {},
     "output_type": "execute_result"
    }
   ],
   "source": [
    "null_values = df.isnull().sum() > 0\n",
    "null_values.sum()"
   ]
  },
  {
   "cell_type": "code",
   "execution_count": 4,
   "id": "85e30b27-7bc4-4bcf-acb6-161acfc50a81",
   "metadata": {},
   "outputs": [],
   "source": [
    "x = df.iloc[:,1:3001]\n",
    "y = df.iloc[:,-1:3002]"
   ]
  },
  {
   "cell_type": "code",
   "execution_count": 5,
   "id": "04414ed6-a3f6-437e-ba95-428a45117d65",
   "metadata": {},
   "outputs": [
    {
     "data": {
      "text/html": [
       "<div>\n",
       "<style scoped>\n",
       "    .dataframe tbody tr th:only-of-type {\n",
       "        vertical-align: middle;\n",
       "    }\n",
       "\n",
       "    .dataframe tbody tr th {\n",
       "        vertical-align: top;\n",
       "    }\n",
       "\n",
       "    .dataframe thead th {\n",
       "        text-align: right;\n",
       "    }\n",
       "</style>\n",
       "<table border=\"1\" class=\"dataframe\">\n",
       "  <thead>\n",
       "    <tr style=\"text-align: right;\">\n",
       "      <th></th>\n",
       "      <th>the</th>\n",
       "      <th>to</th>\n",
       "      <th>ect</th>\n",
       "      <th>and</th>\n",
       "      <th>for</th>\n",
       "      <th>of</th>\n",
       "      <th>a</th>\n",
       "      <th>you</th>\n",
       "      <th>hou</th>\n",
       "      <th>in</th>\n",
       "      <th>...</th>\n",
       "      <th>enhancements</th>\n",
       "      <th>connevey</th>\n",
       "      <th>jay</th>\n",
       "      <th>valued</th>\n",
       "      <th>lay</th>\n",
       "      <th>infrastructure</th>\n",
       "      <th>military</th>\n",
       "      <th>allowing</th>\n",
       "      <th>ff</th>\n",
       "      <th>dry</th>\n",
       "    </tr>\n",
       "  </thead>\n",
       "  <tbody>\n",
       "    <tr>\n",
       "      <th>0</th>\n",
       "      <td>-0.565449</td>\n",
       "      <td>-0.649083</td>\n",
       "      <td>-0.293895</td>\n",
       "      <td>-0.508752</td>\n",
       "      <td>-0.667663</td>\n",
       "      <td>-0.421725</td>\n",
       "      <td>-0.611169</td>\n",
       "      <td>-0.571751</td>\n",
       "      <td>-0.290556</td>\n",
       "      <td>-0.549800</td>\n",
       "      <td>...</td>\n",
       "      <td>-0.02919</td>\n",
       "      <td>-0.047525</td>\n",
       "      <td>-0.062944</td>\n",
       "      <td>-0.091138</td>\n",
       "      <td>-0.172137</td>\n",
       "      <td>-0.044197</td>\n",
       "      <td>-0.04733</td>\n",
       "      <td>-0.056285</td>\n",
       "      <td>-0.329048</td>\n",
       "      <td>-0.070971</td>\n",
       "    </tr>\n",
       "    <tr>\n",
       "      <th>1</th>\n",
       "      <td>0.115757</td>\n",
       "      <td>0.714508</td>\n",
       "      <td>1.337337</td>\n",
       "      <td>0.483741</td>\n",
       "      <td>0.614369</td>\n",
       "      <td>-0.100659</td>\n",
       "      <td>0.530831</td>\n",
       "      <td>-0.339949</td>\n",
       "      <td>3.584743</td>\n",
       "      <td>0.383809</td>\n",
       "      <td>...</td>\n",
       "      <td>-0.02919</td>\n",
       "      <td>-0.047525</td>\n",
       "      <td>-0.062944</td>\n",
       "      <td>-0.091138</td>\n",
       "      <td>-0.172137</td>\n",
       "      <td>-0.044197</td>\n",
       "      <td>-0.04733</td>\n",
       "      <td>-0.056285</td>\n",
       "      <td>0.030672</td>\n",
       "      <td>-0.070971</td>\n",
       "    </tr>\n",
       "    <tr>\n",
       "      <th>2</th>\n",
       "      <td>-0.565449</td>\n",
       "      <td>-0.649083</td>\n",
       "      <td>-0.293895</td>\n",
       "      <td>-0.508752</td>\n",
       "      <td>-0.667663</td>\n",
       "      <td>-0.421725</td>\n",
       "      <td>-0.542649</td>\n",
       "      <td>-0.571751</td>\n",
       "      <td>-0.290556</td>\n",
       "      <td>-0.342331</td>\n",
       "      <td>...</td>\n",
       "      <td>-0.02919</td>\n",
       "      <td>-0.047525</td>\n",
       "      <td>-0.062944</td>\n",
       "      <td>-0.091138</td>\n",
       "      <td>-0.172137</td>\n",
       "      <td>-0.044197</td>\n",
       "      <td>-0.04733</td>\n",
       "      <td>-0.056285</td>\n",
       "      <td>-0.329048</td>\n",
       "      <td>-0.070971</td>\n",
       "    </tr>\n",
       "    <tr>\n",
       "      <th>3</th>\n",
       "      <td>-0.565449</td>\n",
       "      <td>-0.124625</td>\n",
       "      <td>1.195490</td>\n",
       "      <td>-0.508752</td>\n",
       "      <td>0.400697</td>\n",
       "      <td>-0.261192</td>\n",
       "      <td>-0.051589</td>\n",
       "      <td>-0.108147</td>\n",
       "      <td>1.144740</td>\n",
       "      <td>-0.497933</td>\n",
       "      <td>...</td>\n",
       "      <td>-0.02919</td>\n",
       "      <td>-0.047525</td>\n",
       "      <td>-0.062944</td>\n",
       "      <td>-0.091138</td>\n",
       "      <td>-0.172137</td>\n",
       "      <td>-0.044197</td>\n",
       "      <td>-0.04733</td>\n",
       "      <td>-0.056285</td>\n",
       "      <td>-0.329048</td>\n",
       "      <td>-0.070971</td>\n",
       "    </tr>\n",
       "    <tr>\n",
       "      <th>4</th>\n",
       "      <td>0.030606</td>\n",
       "      <td>-0.019733</td>\n",
       "      <td>0.840875</td>\n",
       "      <td>-0.343336</td>\n",
       "      <td>0.400697</td>\n",
       "      <td>-0.100659</td>\n",
       "      <td>0.016931</td>\n",
       "      <td>-0.571751</td>\n",
       "      <td>1.001210</td>\n",
       "      <td>-0.394198</td>\n",
       "      <td>...</td>\n",
       "      <td>-0.02919</td>\n",
       "      <td>-0.047525</td>\n",
       "      <td>-0.062944</td>\n",
       "      <td>-0.091138</td>\n",
       "      <td>-0.172137</td>\n",
       "      <td>-0.044197</td>\n",
       "      <td>-0.04733</td>\n",
       "      <td>-0.056285</td>\n",
       "      <td>0.030672</td>\n",
       "      <td>-0.070971</td>\n",
       "    </tr>\n",
       "    <tr>\n",
       "      <th>...</th>\n",
       "      <td>...</td>\n",
       "      <td>...</td>\n",
       "      <td>...</td>\n",
       "      <td>...</td>\n",
       "      <td>...</td>\n",
       "      <td>...</td>\n",
       "      <td>...</td>\n",
       "      <td>...</td>\n",
       "      <td>...</td>\n",
       "      <td>...</td>\n",
       "      <td>...</td>\n",
       "      <td>...</td>\n",
       "      <td>...</td>\n",
       "      <td>...</td>\n",
       "      <td>...</td>\n",
       "      <td>...</td>\n",
       "      <td>...</td>\n",
       "      <td>...</td>\n",
       "      <td>...</td>\n",
       "      <td>...</td>\n",
       "      <td>...</td>\n",
       "    </tr>\n",
       "    <tr>\n",
       "      <th>5167</th>\n",
       "      <td>-0.395148</td>\n",
       "      <td>-0.439299</td>\n",
       "      <td>-0.222972</td>\n",
       "      <td>-0.012505</td>\n",
       "      <td>-0.667663</td>\n",
       "      <td>-0.421725</td>\n",
       "      <td>-0.268569</td>\n",
       "      <td>-0.571751</td>\n",
       "      <td>-0.290556</td>\n",
       "      <td>-0.290464</td>\n",
       "      <td>...</td>\n",
       "      <td>-0.02919</td>\n",
       "      <td>-0.047525</td>\n",
       "      <td>-0.062944</td>\n",
       "      <td>-0.091138</td>\n",
       "      <td>-0.172137</td>\n",
       "      <td>-0.044197</td>\n",
       "      <td>-0.04733</td>\n",
       "      <td>-0.056285</td>\n",
       "      <td>-0.329048</td>\n",
       "      <td>-0.070971</td>\n",
       "    </tr>\n",
       "    <tr>\n",
       "      <th>5168</th>\n",
       "      <td>2.414828</td>\n",
       "      <td>2.182990</td>\n",
       "      <td>0.415336</td>\n",
       "      <td>-0.177921</td>\n",
       "      <td>0.614369</td>\n",
       "      <td>0.380940</td>\n",
       "      <td>1.090411</td>\n",
       "      <td>0.355457</td>\n",
       "      <td>0.140033</td>\n",
       "      <td>0.643145</td>\n",
       "      <td>...</td>\n",
       "      <td>-0.02919</td>\n",
       "      <td>-0.047525</td>\n",
       "      <td>-0.062944</td>\n",
       "      <td>-0.091138</td>\n",
       "      <td>-0.172137</td>\n",
       "      <td>-0.044197</td>\n",
       "      <td>-0.04733</td>\n",
       "      <td>-0.056285</td>\n",
       "      <td>0.030672</td>\n",
       "      <td>-0.070971</td>\n",
       "    </tr>\n",
       "    <tr>\n",
       "      <th>5169</th>\n",
       "      <td>-0.565449</td>\n",
       "      <td>-0.649083</td>\n",
       "      <td>-0.293895</td>\n",
       "      <td>-0.343336</td>\n",
       "      <td>-0.667663</td>\n",
       "      <td>-0.421725</td>\n",
       "      <td>-0.508389</td>\n",
       "      <td>-0.571751</td>\n",
       "      <td>-0.290556</td>\n",
       "      <td>-0.497933</td>\n",
       "      <td>...</td>\n",
       "      <td>-0.02919</td>\n",
       "      <td>-0.047525</td>\n",
       "      <td>-0.062944</td>\n",
       "      <td>-0.091138</td>\n",
       "      <td>-0.172137</td>\n",
       "      <td>-0.044197</td>\n",
       "      <td>-0.04733</td>\n",
       "      <td>-0.056285</td>\n",
       "      <td>-0.329048</td>\n",
       "      <td>-0.070971</td>\n",
       "    </tr>\n",
       "    <tr>\n",
       "      <th>5170</th>\n",
       "      <td>-0.395148</td>\n",
       "      <td>0.085158</td>\n",
       "      <td>-0.293895</td>\n",
       "      <td>-0.508752</td>\n",
       "      <td>-0.240319</td>\n",
       "      <td>-0.261192</td>\n",
       "      <td>-0.314249</td>\n",
       "      <td>-0.108147</td>\n",
       "      <td>-0.290556</td>\n",
       "      <td>-0.134863</td>\n",
       "      <td>...</td>\n",
       "      <td>-0.02919</td>\n",
       "      <td>-0.047525</td>\n",
       "      <td>-0.062944</td>\n",
       "      <td>-0.091138</td>\n",
       "      <td>-0.172137</td>\n",
       "      <td>-0.044197</td>\n",
       "      <td>-0.04733</td>\n",
       "      <td>-0.056285</td>\n",
       "      <td>0.030672</td>\n",
       "      <td>-0.070971</td>\n",
       "    </tr>\n",
       "    <tr>\n",
       "      <th>5171</th>\n",
       "      <td>1.307868</td>\n",
       "      <td>1.868315</td>\n",
       "      <td>-0.010202</td>\n",
       "      <td>-0.343336</td>\n",
       "      <td>0.614369</td>\n",
       "      <td>0.380940</td>\n",
       "      <td>1.056151</td>\n",
       "      <td>1.282664</td>\n",
       "      <td>-0.003497</td>\n",
       "      <td>0.643145</td>\n",
       "      <td>...</td>\n",
       "      <td>-0.02919</td>\n",
       "      <td>-0.047525</td>\n",
       "      <td>-0.062944</td>\n",
       "      <td>-0.091138</td>\n",
       "      <td>-0.172137</td>\n",
       "      <td>-0.044197</td>\n",
       "      <td>-0.04733</td>\n",
       "      <td>-0.056285</td>\n",
       "      <td>-0.329048</td>\n",
       "      <td>-0.070971</td>\n",
       "    </tr>\n",
       "  </tbody>\n",
       "</table>\n",
       "<p>5172 rows × 3000 columns</p>\n",
       "</div>"
      ],
      "text/plain": [
       "           the        to       ect       and       for        of         a  \\\n",
       "0    -0.565449 -0.649083 -0.293895 -0.508752 -0.667663 -0.421725 -0.611169   \n",
       "1     0.115757  0.714508  1.337337  0.483741  0.614369 -0.100659  0.530831   \n",
       "2    -0.565449 -0.649083 -0.293895 -0.508752 -0.667663 -0.421725 -0.542649   \n",
       "3    -0.565449 -0.124625  1.195490 -0.508752  0.400697 -0.261192 -0.051589   \n",
       "4     0.030606 -0.019733  0.840875 -0.343336  0.400697 -0.100659  0.016931   \n",
       "...        ...       ...       ...       ...       ...       ...       ...   \n",
       "5167 -0.395148 -0.439299 -0.222972 -0.012505 -0.667663 -0.421725 -0.268569   \n",
       "5168  2.414828  2.182990  0.415336 -0.177921  0.614369  0.380940  1.090411   \n",
       "5169 -0.565449 -0.649083 -0.293895 -0.343336 -0.667663 -0.421725 -0.508389   \n",
       "5170 -0.395148  0.085158 -0.293895 -0.508752 -0.240319 -0.261192 -0.314249   \n",
       "5171  1.307868  1.868315 -0.010202 -0.343336  0.614369  0.380940  1.056151   \n",
       "\n",
       "           you       hou        in  ...  enhancements  connevey       jay  \\\n",
       "0    -0.571751 -0.290556 -0.549800  ...      -0.02919 -0.047525 -0.062944   \n",
       "1    -0.339949  3.584743  0.383809  ...      -0.02919 -0.047525 -0.062944   \n",
       "2    -0.571751 -0.290556 -0.342331  ...      -0.02919 -0.047525 -0.062944   \n",
       "3    -0.108147  1.144740 -0.497933  ...      -0.02919 -0.047525 -0.062944   \n",
       "4    -0.571751  1.001210 -0.394198  ...      -0.02919 -0.047525 -0.062944   \n",
       "...        ...       ...       ...  ...           ...       ...       ...   \n",
       "5167 -0.571751 -0.290556 -0.290464  ...      -0.02919 -0.047525 -0.062944   \n",
       "5168  0.355457  0.140033  0.643145  ...      -0.02919 -0.047525 -0.062944   \n",
       "5169 -0.571751 -0.290556 -0.497933  ...      -0.02919 -0.047525 -0.062944   \n",
       "5170 -0.108147 -0.290556 -0.134863  ...      -0.02919 -0.047525 -0.062944   \n",
       "5171  1.282664 -0.003497  0.643145  ...      -0.02919 -0.047525 -0.062944   \n",
       "\n",
       "        valued       lay  infrastructure  military  allowing        ff  \\\n",
       "0    -0.091138 -0.172137       -0.044197  -0.04733 -0.056285 -0.329048   \n",
       "1    -0.091138 -0.172137       -0.044197  -0.04733 -0.056285  0.030672   \n",
       "2    -0.091138 -0.172137       -0.044197  -0.04733 -0.056285 -0.329048   \n",
       "3    -0.091138 -0.172137       -0.044197  -0.04733 -0.056285 -0.329048   \n",
       "4    -0.091138 -0.172137       -0.044197  -0.04733 -0.056285  0.030672   \n",
       "...        ...       ...             ...       ...       ...       ...   \n",
       "5167 -0.091138 -0.172137       -0.044197  -0.04733 -0.056285 -0.329048   \n",
       "5168 -0.091138 -0.172137       -0.044197  -0.04733 -0.056285  0.030672   \n",
       "5169 -0.091138 -0.172137       -0.044197  -0.04733 -0.056285 -0.329048   \n",
       "5170 -0.091138 -0.172137       -0.044197  -0.04733 -0.056285  0.030672   \n",
       "5171 -0.091138 -0.172137       -0.044197  -0.04733 -0.056285 -0.329048   \n",
       "\n",
       "           dry  \n",
       "0    -0.070971  \n",
       "1    -0.070971  \n",
       "2    -0.070971  \n",
       "3    -0.070971  \n",
       "4    -0.070971  \n",
       "...        ...  \n",
       "5167 -0.070971  \n",
       "5168 -0.070971  \n",
       "5169 -0.070971  \n",
       "5170 -0.070971  \n",
       "5171 -0.070971  \n",
       "\n",
       "[5172 rows x 3000 columns]"
      ]
     },
     "execution_count": 5,
     "metadata": {},
     "output_type": "execute_result"
    }
   ],
   "source": [
    "##Standard Scaler\n",
    "from sklearn.preprocessing import StandardScaler\n",
    "ss = StandardScaler()\n",
    "x_scaled = pd.DataFrame(ss.fit_transform(x),columns=ss.get_feature_names_out())\n",
    "x_scaled"
   ]
  },
  {
   "cell_type": "code",
   "execution_count": 6,
   "id": "d368dad7-5bea-438f-93ae-30f263abf33b",
   "metadata": {},
   "outputs": [],
   "source": [
    "from sklearn.model_selection import train_test_split"
   ]
  },
  {
   "cell_type": "code",
   "execution_count": 7,
   "id": "93b58664-4b40-4c51-b5a9-064e7262bc08",
   "metadata": {},
   "outputs": [],
   "source": [
    "X_train,X_test,y_train,y_test = train_test_split(x,y,test_size=0.2,random_state=42)"
   ]
  },
  {
   "cell_type": "code",
   "execution_count": 8,
   "id": "ffeaa7bf-1c62-408e-bde7-8dd22aac9603",
   "metadata": {},
   "outputs": [
    {
     "data": {
      "text/plain": [
       "((4137, 3000), (1035, 3000))"
      ]
     },
     "execution_count": 8,
     "metadata": {},
     "output_type": "execute_result"
    }
   ],
   "source": [
    "X_train.shape,X_test.shape"
   ]
  },
  {
   "cell_type": "code",
   "execution_count": 9,
   "id": "c21eda89-9ca2-4420-b56f-7a810ac488e3",
   "metadata": {},
   "outputs": [
    {
     "data": {
      "text/plain": [
       "((4137, 1), (1035, 1))"
      ]
     },
     "execution_count": 9,
     "metadata": {},
     "output_type": "execute_result"
    }
   ],
   "source": [
    "y_train.shape,y_test.shape"
   ]
  },
  {
   "cell_type": "markdown",
   "id": "1a9abd08-959b-443f-b86a-53c524cfc840",
   "metadata": {},
   "source": [
    "## KNN Model : "
   ]
  },
  {
   "cell_type": "code",
   "execution_count": 10,
   "id": "c94778d1-c569-4392-9eb2-456e63400668",
   "metadata": {},
   "outputs": [],
   "source": [
    "from sklearn.neighbors import KNeighborsClassifier"
   ]
  },
  {
   "cell_type": "code",
   "execution_count": 11,
   "id": "09caa694-095b-4fc4-b674-1695b728f883",
   "metadata": {},
   "outputs": [
    {
     "name": "stderr",
     "output_type": "stream",
     "text": [
      "C:\\Users\\siddharth\\anaconda3\\Lib\\site-packages\\sklearn\\neighbors\\_classification.py:215: DataConversionWarning: A column-vector y was passed when a 1d array was expected. Please change the shape of y to (n_samples,), for example using ravel().\n",
      "  return self._fit(X, y)\n"
     ]
    },
    {
     "data": {
      "text/html": [
       "<style>#sk-container-id-1 {color: black;background-color: white;}#sk-container-id-1 pre{padding: 0;}#sk-container-id-1 div.sk-toggleable {background-color: white;}#sk-container-id-1 label.sk-toggleable__label {cursor: pointer;display: block;width: 100%;margin-bottom: 0;padding: 0.3em;box-sizing: border-box;text-align: center;}#sk-container-id-1 label.sk-toggleable__label-arrow:before {content: \"▸\";float: left;margin-right: 0.25em;color: #696969;}#sk-container-id-1 label.sk-toggleable__label-arrow:hover:before {color: black;}#sk-container-id-1 div.sk-estimator:hover label.sk-toggleable__label-arrow:before {color: black;}#sk-container-id-1 div.sk-toggleable__content {max-height: 0;max-width: 0;overflow: hidden;text-align: left;background-color: #f0f8ff;}#sk-container-id-1 div.sk-toggleable__content pre {margin: 0.2em;color: black;border-radius: 0.25em;background-color: #f0f8ff;}#sk-container-id-1 input.sk-toggleable__control:checked~div.sk-toggleable__content {max-height: 200px;max-width: 100%;overflow: auto;}#sk-container-id-1 input.sk-toggleable__control:checked~label.sk-toggleable__label-arrow:before {content: \"▾\";}#sk-container-id-1 div.sk-estimator input.sk-toggleable__control:checked~label.sk-toggleable__label {background-color: #d4ebff;}#sk-container-id-1 div.sk-label input.sk-toggleable__control:checked~label.sk-toggleable__label {background-color: #d4ebff;}#sk-container-id-1 input.sk-hidden--visually {border: 0;clip: rect(1px 1px 1px 1px);clip: rect(1px, 1px, 1px, 1px);height: 1px;margin: -1px;overflow: hidden;padding: 0;position: absolute;width: 1px;}#sk-container-id-1 div.sk-estimator {font-family: monospace;background-color: #f0f8ff;border: 1px dotted black;border-radius: 0.25em;box-sizing: border-box;margin-bottom: 0.5em;}#sk-container-id-1 div.sk-estimator:hover {background-color: #d4ebff;}#sk-container-id-1 div.sk-parallel-item::after {content: \"\";width: 100%;border-bottom: 1px solid gray;flex-grow: 1;}#sk-container-id-1 div.sk-label:hover label.sk-toggleable__label {background-color: #d4ebff;}#sk-container-id-1 div.sk-serial::before {content: \"\";position: absolute;border-left: 1px solid gray;box-sizing: border-box;top: 0;bottom: 0;left: 50%;z-index: 0;}#sk-container-id-1 div.sk-serial {display: flex;flex-direction: column;align-items: center;background-color: white;padding-right: 0.2em;padding-left: 0.2em;position: relative;}#sk-container-id-1 div.sk-item {position: relative;z-index: 1;}#sk-container-id-1 div.sk-parallel {display: flex;align-items: stretch;justify-content: center;background-color: white;position: relative;}#sk-container-id-1 div.sk-item::before, #sk-container-id-1 div.sk-parallel-item::before {content: \"\";position: absolute;border-left: 1px solid gray;box-sizing: border-box;top: 0;bottom: 0;left: 50%;z-index: -1;}#sk-container-id-1 div.sk-parallel-item {display: flex;flex-direction: column;z-index: 1;position: relative;background-color: white;}#sk-container-id-1 div.sk-parallel-item:first-child::after {align-self: flex-end;width: 50%;}#sk-container-id-1 div.sk-parallel-item:last-child::after {align-self: flex-start;width: 50%;}#sk-container-id-1 div.sk-parallel-item:only-child::after {width: 0;}#sk-container-id-1 div.sk-dashed-wrapped {border: 1px dashed gray;margin: 0 0.4em 0.5em 0.4em;box-sizing: border-box;padding-bottom: 0.4em;background-color: white;}#sk-container-id-1 div.sk-label label {font-family: monospace;font-weight: bold;display: inline-block;line-height: 1.2em;}#sk-container-id-1 div.sk-label-container {text-align: center;}#sk-container-id-1 div.sk-container {/* jupyter's `normalize.less` sets `[hidden] { display: none; }` but bootstrap.min.css set `[hidden] { display: none !important; }` so we also need the `!important` here to be able to override the default hidden behavior on the sphinx rendered scikit-learn.org. See: https://github.com/scikit-learn/scikit-learn/issues/21755 */display: inline-block !important;position: relative;}#sk-container-id-1 div.sk-text-repr-fallback {display: none;}</style><div id=\"sk-container-id-1\" class=\"sk-top-container\"><div class=\"sk-text-repr-fallback\"><pre>KNeighborsClassifier()</pre><b>In a Jupyter environment, please rerun this cell to show the HTML representation or trust the notebook. <br />On GitHub, the HTML representation is unable to render, please try loading this page with nbviewer.org.</b></div><div class=\"sk-container\" hidden><div class=\"sk-item\"><div class=\"sk-estimator sk-toggleable\"><input class=\"sk-toggleable__control sk-hidden--visually\" id=\"sk-estimator-id-1\" type=\"checkbox\" checked><label for=\"sk-estimator-id-1\" class=\"sk-toggleable__label sk-toggleable__label-arrow\">KNeighborsClassifier</label><div class=\"sk-toggleable__content\"><pre>KNeighborsClassifier()</pre></div></div></div></div></div>"
      ],
      "text/plain": [
       "KNeighborsClassifier()"
      ]
     },
     "execution_count": 11,
     "metadata": {},
     "output_type": "execute_result"
    }
   ],
   "source": [
    "knn = KNeighborsClassifier(n_neighbors=5)\n",
    "knn.fit(X_train,y_train)"
   ]
  },
  {
   "cell_type": "code",
   "execution_count": 12,
   "id": "a9e52d6b-cf18-4209-b340-e439e24a882d",
   "metadata": {},
   "outputs": [],
   "source": [
    "y_pred = knn.predict(X_test)"
   ]
  },
  {
   "cell_type": "code",
   "execution_count": 13,
   "id": "d05629d6-d963-4adf-bad5-d441fd0acb63",
   "metadata": {},
   "outputs": [
    {
     "data": {
      "text/plain": [
       "0.8628019323671497"
      ]
     },
     "execution_count": 13,
     "metadata": {},
     "output_type": "execute_result"
    }
   ],
   "source": [
    "from sklearn.metrics import accuracy_score\n",
    "accuracy_score(y_pred,y_test)"
   ]
  },
  {
   "cell_type": "code",
   "execution_count": 14,
   "id": "b16005da-0e5d-48e1-8570-151af8f456d5",
   "metadata": {},
   "outputs": [
    {
     "name": "stderr",
     "output_type": "stream",
     "text": [
      "C:\\Users\\siddharth\\anaconda3\\Lib\\site-packages\\sklearn\\neighbors\\_classification.py:215: DataConversionWarning: A column-vector y was passed when a 1d array was expected. Please change the shape of y to (n_samples,), for example using ravel().\n",
      "  return self._fit(X, y)\n"
     ]
    },
    {
     "name": "stdout",
     "output_type": "stream",
     "text": [
      "Accuracy : 0.8608695652173913 , HyperParameter : 1\n"
     ]
    },
    {
     "name": "stderr",
     "output_type": "stream",
     "text": [
      "C:\\Users\\siddharth\\anaconda3\\Lib\\site-packages\\sklearn\\neighbors\\_classification.py:215: DataConversionWarning: A column-vector y was passed when a 1d array was expected. Please change the shape of y to (n_samples,), for example using ravel().\n",
      "  return self._fit(X, y)\n"
     ]
    },
    {
     "name": "stdout",
     "output_type": "stream",
     "text": [
      "Accuracy : 0.8743961352657005 , HyperParameter : 2\n"
     ]
    },
    {
     "name": "stderr",
     "output_type": "stream",
     "text": [
      "C:\\Users\\siddharth\\anaconda3\\Lib\\site-packages\\sklearn\\neighbors\\_classification.py:215: DataConversionWarning: A column-vector y was passed when a 1d array was expected. Please change the shape of y to (n_samples,), for example using ravel().\n",
      "  return self._fit(X, y)\n"
     ]
    },
    {
     "name": "stdout",
     "output_type": "stream",
     "text": [
      "Accuracy : 0.8685990338164251 , HyperParameter : 3\n"
     ]
    },
    {
     "name": "stderr",
     "output_type": "stream",
     "text": [
      "C:\\Users\\siddharth\\anaconda3\\Lib\\site-packages\\sklearn\\neighbors\\_classification.py:215: DataConversionWarning: A column-vector y was passed when a 1d array was expected. Please change the shape of y to (n_samples,), for example using ravel().\n",
      "  return self._fit(X, y)\n"
     ]
    },
    {
     "name": "stdout",
     "output_type": "stream",
     "text": [
      "Accuracy : 0.8676328502415459 , HyperParameter : 4\n"
     ]
    },
    {
     "name": "stderr",
     "output_type": "stream",
     "text": [
      "C:\\Users\\siddharth\\anaconda3\\Lib\\site-packages\\sklearn\\neighbors\\_classification.py:215: DataConversionWarning: A column-vector y was passed when a 1d array was expected. Please change the shape of y to (n_samples,), for example using ravel().\n",
      "  return self._fit(X, y)\n"
     ]
    },
    {
     "name": "stdout",
     "output_type": "stream",
     "text": [
      "Accuracy : 0.8628019323671497 , HyperParameter : 5\n"
     ]
    },
    {
     "name": "stderr",
     "output_type": "stream",
     "text": [
      "C:\\Users\\siddharth\\anaconda3\\Lib\\site-packages\\sklearn\\neighbors\\_classification.py:215: DataConversionWarning: A column-vector y was passed when a 1d array was expected. Please change the shape of y to (n_samples,), for example using ravel().\n",
      "  return self._fit(X, y)\n"
     ]
    },
    {
     "name": "stdout",
     "output_type": "stream",
     "text": [
      "Accuracy : 0.8714975845410629 , HyperParameter : 6\n"
     ]
    },
    {
     "name": "stderr",
     "output_type": "stream",
     "text": [
      "C:\\Users\\siddharth\\anaconda3\\Lib\\site-packages\\sklearn\\neighbors\\_classification.py:215: DataConversionWarning: A column-vector y was passed when a 1d array was expected. Please change the shape of y to (n_samples,), for example using ravel().\n",
      "  return self._fit(X, y)\n"
     ]
    },
    {
     "name": "stdout",
     "output_type": "stream",
     "text": [
      "Accuracy : 0.8685990338164251 , HyperParameter : 7\n"
     ]
    },
    {
     "name": "stderr",
     "output_type": "stream",
     "text": [
      "C:\\Users\\siddharth\\anaconda3\\Lib\\site-packages\\sklearn\\neighbors\\_classification.py:215: DataConversionWarning: A column-vector y was passed when a 1d array was expected. Please change the shape of y to (n_samples,), for example using ravel().\n",
      "  return self._fit(X, y)\n"
     ]
    },
    {
     "name": "stdout",
     "output_type": "stream",
     "text": [
      "Accuracy : 0.8830917874396135 , HyperParameter : 8\n"
     ]
    },
    {
     "name": "stderr",
     "output_type": "stream",
     "text": [
      "C:\\Users\\siddharth\\anaconda3\\Lib\\site-packages\\sklearn\\neighbors\\_classification.py:215: DataConversionWarning: A column-vector y was passed when a 1d array was expected. Please change the shape of y to (n_samples,), for example using ravel().\n",
      "  return self._fit(X, y)\n"
     ]
    },
    {
     "name": "stdout",
     "output_type": "stream",
     "text": [
      "Accuracy : 0.8782608695652174 , HyperParameter : 9\n"
     ]
    },
    {
     "name": "stderr",
     "output_type": "stream",
     "text": [
      "C:\\Users\\siddharth\\anaconda3\\Lib\\site-packages\\sklearn\\neighbors\\_classification.py:215: DataConversionWarning: A column-vector y was passed when a 1d array was expected. Please change the shape of y to (n_samples,), for example using ravel().\n",
      "  return self._fit(X, y)\n"
     ]
    },
    {
     "name": "stdout",
     "output_type": "stream",
     "text": [
      "Accuracy : 0.885024154589372 , HyperParameter : 10\n"
     ]
    },
    {
     "name": "stderr",
     "output_type": "stream",
     "text": [
      "C:\\Users\\siddharth\\anaconda3\\Lib\\site-packages\\sklearn\\neighbors\\_classification.py:215: DataConversionWarning: A column-vector y was passed when a 1d array was expected. Please change the shape of y to (n_samples,), for example using ravel().\n",
      "  return self._fit(X, y)\n"
     ]
    },
    {
     "name": "stdout",
     "output_type": "stream",
     "text": [
      "Accuracy : 0.8830917874396135 , HyperParameter : 11\n"
     ]
    },
    {
     "name": "stderr",
     "output_type": "stream",
     "text": [
      "C:\\Users\\siddharth\\anaconda3\\Lib\\site-packages\\sklearn\\neighbors\\_classification.py:215: DataConversionWarning: A column-vector y was passed when a 1d array was expected. Please change the shape of y to (n_samples,), for example using ravel().\n",
      "  return self._fit(X, y)\n"
     ]
    },
    {
     "name": "stdout",
     "output_type": "stream",
     "text": [
      "Accuracy : 0.8879227053140096 , HyperParameter : 12\n"
     ]
    },
    {
     "name": "stderr",
     "output_type": "stream",
     "text": [
      "C:\\Users\\siddharth\\anaconda3\\Lib\\site-packages\\sklearn\\neighbors\\_classification.py:215: DataConversionWarning: A column-vector y was passed when a 1d array was expected. Please change the shape of y to (n_samples,), for example using ravel().\n",
      "  return self._fit(X, y)\n"
     ]
    },
    {
     "name": "stdout",
     "output_type": "stream",
     "text": [
      "Accuracy : 0.8830917874396135 , HyperParameter : 13\n"
     ]
    },
    {
     "name": "stderr",
     "output_type": "stream",
     "text": [
      "C:\\Users\\siddharth\\anaconda3\\Lib\\site-packages\\sklearn\\neighbors\\_classification.py:215: DataConversionWarning: A column-vector y was passed when a 1d array was expected. Please change the shape of y to (n_samples,), for example using ravel().\n",
      "  return self._fit(X, y)\n"
     ]
    },
    {
     "name": "stdout",
     "output_type": "stream",
     "text": [
      "Accuracy : 0.8869565217391304 , HyperParameter : 14\n"
     ]
    },
    {
     "name": "stderr",
     "output_type": "stream",
     "text": [
      "C:\\Users\\siddharth\\anaconda3\\Lib\\site-packages\\sklearn\\neighbors\\_classification.py:215: DataConversionWarning: A column-vector y was passed when a 1d array was expected. Please change the shape of y to (n_samples,), for example using ravel().\n",
      "  return self._fit(X, y)\n"
     ]
    },
    {
     "name": "stdout",
     "output_type": "stream",
     "text": [
      "Accuracy : 0.8782608695652174 , HyperParameter : 15\n"
     ]
    }
   ],
   "source": [
    "for i in range(15):\n",
    "    knn2 = KNeighborsClassifier(n_neighbors=i+1)\n",
    "    knn2.fit(X_train,y_train)\n",
    "    y_pred2 = knn2.predict(X_test)\n",
    "    print('Accuracy : {acc} , HyperParameter : {n}'.format(acc=accuracy_score(y_pred2,y_test), n = i+1))"
   ]
  },
  {
   "cell_type": "markdown",
   "id": "2b81293f-3de0-45af-bee2-67d480e651f1",
   "metadata": {},
   "source": [
    "## SVM Model : "
   ]
  },
  {
   "cell_type": "code",
   "execution_count": 16,
   "id": "28fdffe9-9c57-43b1-b27b-2b0c8921e981",
   "metadata": {},
   "outputs": [
    {
     "name": "stderr",
     "output_type": "stream",
     "text": [
      "C:\\Users\\siddharth\\anaconda3\\Lib\\site-packages\\sklearn\\utils\\validation.py:1143: DataConversionWarning: A column-vector y was passed when a 1d array was expected. Please change the shape of y to (n_samples, ), for example using ravel().\n",
      "  y = column_or_1d(y, warn=True)\n"
     ]
    },
    {
     "data": {
      "text/plain": [
       "0.7246376811594203"
      ]
     },
     "execution_count": 16,
     "metadata": {},
     "output_type": "execute_result"
    }
   ],
   "source": [
    "import matplotlib.pyplot as plt\n",
    "from sklearn.svm import SVC\n",
    "\n",
    "svc = SVC(kernel=\"rbf\",gamma=0.5, C=1.0)\n",
    "svc.fit(X_train,y_train)\n",
    "y_pred = svc.predict(X_test)\n",
    "accuracy_score(y_pred,y_test)"
   ]
  },
  {
   "cell_type": "code",
   "execution_count": 17,
   "id": "eb82b8a6-a548-4824-ae63-5692eb3aaed9",
   "metadata": {},
   "outputs": [
    {
     "name": "stderr",
     "output_type": "stream",
     "text": [
      "C:\\Users\\siddharth\\anaconda3\\Lib\\site-packages\\sklearn\\utils\\validation.py:1143: DataConversionWarning: A column-vector y was passed when a 1d array was expected. Please change the shape of y to (n_samples, ), for example using ravel().\n",
      "  y = column_or_1d(y, warn=True)\n"
     ]
    },
    {
     "data": {
      "text/plain": [
       "0.9594202898550724"
      ]
     },
     "execution_count": 17,
     "metadata": {},
     "output_type": "execute_result"
    }
   ],
   "source": [
    "svc = SVC(kernel=\"linear\", C=1.0)\n",
    "svc.fit(X_train,y_train)\n",
    "y_pred = svc.predict(X_test)\n",
    "accuracy_score(y_pred,y_test)"
   ]
  },
  {
   "cell_type": "code",
   "execution_count": 19,
   "id": "78beff95-2bd0-4422-8d9c-879cc0b30227",
   "metadata": {},
   "outputs": [
    {
     "name": "stderr",
     "output_type": "stream",
     "text": [
      "C:\\Users\\siddharth\\anaconda3\\Lib\\site-packages\\sklearn\\utils\\validation.py:1143: DataConversionWarning: A column-vector y was passed when a 1d array was expected. Please change the shape of y to (n_samples, ), for example using ravel().\n",
      "  y = column_or_1d(y, warn=True)\n"
     ]
    },
    {
     "data": {
      "text/plain": [
       "0.6115942028985507"
      ]
     },
     "execution_count": 19,
     "metadata": {},
     "output_type": "execute_result"
    }
   ],
   "source": [
    "svc = SVC(kernel=\"sigmoid\", C=1.0)\n",
    "svc.fit(X_train,y_train)\n",
    "y_pred = svc.predict(X_test)\n",
    "accuracy_score(y_pred,y_test)"
   ]
  },
  {
   "cell_type": "code",
   "execution_count": 18,
   "id": "239bf8fa-50b7-4317-ac81-ba91e8d97b2c",
   "metadata": {},
   "outputs": [
    {
     "name": "stderr",
     "output_type": "stream",
     "text": [
      "/home/student/.local/lib/python3.10/site-packages/sklearn/utils/validation.py:1300: DataConversionWarning: A column-vector y was passed when a 1d array was expected. Please change the shape of y to (n_samples, ), for example using ravel().\n",
      "  y = column_or_1d(y, warn=True)\n"
     ]
    },
    {
     "name": "stdout",
     "output_type": "stream",
     "text": [
      "Accuracy : 0.9594202898550724, Kernel : linear, C : 1\n"
     ]
    },
    {
     "name": "stderr",
     "output_type": "stream",
     "text": [
      "/home/student/.local/lib/python3.10/site-packages/sklearn/utils/validation.py:1300: DataConversionWarning: A column-vector y was passed when a 1d array was expected. Please change the shape of y to (n_samples, ), for example using ravel().\n",
      "  y = column_or_1d(y, warn=True)\n"
     ]
    },
    {
     "name": "stdout",
     "output_type": "stream",
     "text": [
      "Accuracy : 0.8173913043478261, Kernel : rbf, C : 1\n"
     ]
    },
    {
     "name": "stderr",
     "output_type": "stream",
     "text": [
      "/home/student/.local/lib/python3.10/site-packages/sklearn/utils/validation.py:1300: DataConversionWarning: A column-vector y was passed when a 1d array was expected. Please change the shape of y to (n_samples, ), for example using ravel().\n",
      "  y = column_or_1d(y, warn=True)\n"
     ]
    },
    {
     "name": "stdout",
     "output_type": "stream",
     "text": [
      "Accuracy : 0.6115942028985507, Kernel : sigmoid, C : 1\n"
     ]
    },
    {
     "name": "stderr",
     "output_type": "stream",
     "text": [
      "/home/student/.local/lib/python3.10/site-packages/sklearn/utils/validation.py:1300: DataConversionWarning: A column-vector y was passed when a 1d array was expected. Please change the shape of y to (n_samples, ), for example using ravel().\n",
      "  y = column_or_1d(y, warn=True)\n"
     ]
    },
    {
     "name": "stdout",
     "output_type": "stream",
     "text": [
      "Accuracy : 0.7584541062801933, Kernel : poly, C : 1\n"
     ]
    },
    {
     "name": "stderr",
     "output_type": "stream",
     "text": [
      "/home/student/.local/lib/python3.10/site-packages/sklearn/utils/validation.py:1300: DataConversionWarning: A column-vector y was passed when a 1d array was expected. Please change the shape of y to (n_samples, ), for example using ravel().\n",
      "  y = column_or_1d(y, warn=True)\n"
     ]
    },
    {
     "name": "stdout",
     "output_type": "stream",
     "text": [
      "Accuracy : 0.9594202898550724, Kernel : linear, C : 2\n"
     ]
    },
    {
     "name": "stderr",
     "output_type": "stream",
     "text": [
      "/home/student/.local/lib/python3.10/site-packages/sklearn/utils/validation.py:1300: DataConversionWarning: A column-vector y was passed when a 1d array was expected. Please change the shape of y to (n_samples, ), for example using ravel().\n",
      "  y = column_or_1d(y, warn=True)\n"
     ]
    },
    {
     "name": "stdout",
     "output_type": "stream",
     "text": [
      "Accuracy : 0.8695652173913043, Kernel : rbf, C : 2\n"
     ]
    },
    {
     "name": "stderr",
     "output_type": "stream",
     "text": [
      "/home/student/.local/lib/python3.10/site-packages/sklearn/utils/validation.py:1300: DataConversionWarning: A column-vector y was passed when a 1d array was expected. Please change the shape of y to (n_samples, ), for example using ravel().\n",
      "  y = column_or_1d(y, warn=True)\n"
     ]
    },
    {
     "name": "stdout",
     "output_type": "stream",
     "text": [
      "Accuracy : 0.6096618357487923, Kernel : sigmoid, C : 2\n"
     ]
    },
    {
     "name": "stderr",
     "output_type": "stream",
     "text": [
      "/home/student/.local/lib/python3.10/site-packages/sklearn/utils/validation.py:1300: DataConversionWarning: A column-vector y was passed when a 1d array was expected. Please change the shape of y to (n_samples, ), for example using ravel().\n",
      "  y = column_or_1d(y, warn=True)\n"
     ]
    },
    {
     "name": "stdout",
     "output_type": "stream",
     "text": [
      "Accuracy : 0.7652173913043478, Kernel : poly, C : 2\n"
     ]
    },
    {
     "name": "stderr",
     "output_type": "stream",
     "text": [
      "/home/student/.local/lib/python3.10/site-packages/sklearn/utils/validation.py:1300: DataConversionWarning: A column-vector y was passed when a 1d array was expected. Please change the shape of y to (n_samples, ), for example using ravel().\n",
      "  y = column_or_1d(y, warn=True)\n"
     ]
    },
    {
     "name": "stdout",
     "output_type": "stream",
     "text": [
      "Accuracy : 0.9594202898550724, Kernel : linear, C : 3\n"
     ]
    },
    {
     "name": "stderr",
     "output_type": "stream",
     "text": [
      "/home/student/.local/lib/python3.10/site-packages/sklearn/utils/validation.py:1300: DataConversionWarning: A column-vector y was passed when a 1d array was expected. Please change the shape of y to (n_samples, ), for example using ravel().\n",
      "  y = column_or_1d(y, warn=True)\n"
     ]
    },
    {
     "name": "stdout",
     "output_type": "stream",
     "text": [
      "Accuracy : 0.8830917874396135, Kernel : rbf, C : 3\n"
     ]
    },
    {
     "name": "stderr",
     "output_type": "stream",
     "text": [
      "/home/student/.local/lib/python3.10/site-packages/sklearn/utils/validation.py:1300: DataConversionWarning: A column-vector y was passed when a 1d array was expected. Please change the shape of y to (n_samples, ), for example using ravel().\n",
      "  y = column_or_1d(y, warn=True)\n"
     ]
    },
    {
     "name": "stdout",
     "output_type": "stream",
     "text": [
      "Accuracy : 0.6106280193236715, Kernel : sigmoid, C : 3\n"
     ]
    },
    {
     "name": "stderr",
     "output_type": "stream",
     "text": [
      "/home/student/.local/lib/python3.10/site-packages/sklearn/utils/validation.py:1300: DataConversionWarning: A column-vector y was passed when a 1d array was expected. Please change the shape of y to (n_samples, ), for example using ravel().\n",
      "  y = column_or_1d(y, warn=True)\n"
     ]
    },
    {
     "name": "stdout",
     "output_type": "stream",
     "text": [
      "Accuracy : 0.7661835748792271, Kernel : poly, C : 3\n"
     ]
    },
    {
     "name": "stderr",
     "output_type": "stream",
     "text": [
      "/home/student/.local/lib/python3.10/site-packages/sklearn/utils/validation.py:1300: DataConversionWarning: A column-vector y was passed when a 1d array was expected. Please change the shape of y to (n_samples, ), for example using ravel().\n",
      "  y = column_or_1d(y, warn=True)\n"
     ]
    },
    {
     "name": "stdout",
     "output_type": "stream",
     "text": [
      "Accuracy : 0.957487922705314, Kernel : linear, C : 4\n"
     ]
    },
    {
     "name": "stderr",
     "output_type": "stream",
     "text": [
      "/home/student/.local/lib/python3.10/site-packages/sklearn/utils/validation.py:1300: DataConversionWarning: A column-vector y was passed when a 1d array was expected. Please change the shape of y to (n_samples, ), for example using ravel().\n",
      "  y = column_or_1d(y, warn=True)\n"
     ]
    },
    {
     "name": "stdout",
     "output_type": "stream",
     "text": [
      "Accuracy : 0.8888888888888888, Kernel : rbf, C : 4\n"
     ]
    },
    {
     "name": "stderr",
     "output_type": "stream",
     "text": [
      "/home/student/.local/lib/python3.10/site-packages/sklearn/utils/validation.py:1300: DataConversionWarning: A column-vector y was passed when a 1d array was expected. Please change the shape of y to (n_samples, ), for example using ravel().\n",
      "  y = column_or_1d(y, warn=True)\n"
     ]
    },
    {
     "name": "stdout",
     "output_type": "stream",
     "text": [
      "Accuracy : 0.6086956521739131, Kernel : sigmoid, C : 4\n"
     ]
    },
    {
     "name": "stderr",
     "output_type": "stream",
     "text": [
      "/home/student/.local/lib/python3.10/site-packages/sklearn/utils/validation.py:1300: DataConversionWarning: A column-vector y was passed when a 1d array was expected. Please change the shape of y to (n_samples, ), for example using ravel().\n",
      "  y = column_or_1d(y, warn=True)\n"
     ]
    },
    {
     "name": "stdout",
     "output_type": "stream",
     "text": [
      "Accuracy : 0.7671497584541063, Kernel : poly, C : 4\n"
     ]
    },
    {
     "name": "stderr",
     "output_type": "stream",
     "text": [
      "/home/student/.local/lib/python3.10/site-packages/sklearn/utils/validation.py:1300: DataConversionWarning: A column-vector y was passed when a 1d array was expected. Please change the shape of y to (n_samples, ), for example using ravel().\n",
      "  y = column_or_1d(y, warn=True)\n"
     ]
    },
    {
     "name": "stdout",
     "output_type": "stream",
     "text": [
      "Accuracy : 0.9565217391304348, Kernel : linear, C : 5\n"
     ]
    },
    {
     "name": "stderr",
     "output_type": "stream",
     "text": [
      "/home/student/.local/lib/python3.10/site-packages/sklearn/utils/validation.py:1300: DataConversionWarning: A column-vector y was passed when a 1d array was expected. Please change the shape of y to (n_samples, ), for example using ravel().\n",
      "  y = column_or_1d(y, warn=True)\n"
     ]
    },
    {
     "name": "stdout",
     "output_type": "stream",
     "text": [
      "Accuracy : 0.9004830917874396, Kernel : rbf, C : 5\n"
     ]
    },
    {
     "name": "stderr",
     "output_type": "stream",
     "text": [
      "/home/student/.local/lib/python3.10/site-packages/sklearn/utils/validation.py:1300: DataConversionWarning: A column-vector y was passed when a 1d array was expected. Please change the shape of y to (n_samples, ), for example using ravel().\n",
      "  y = column_or_1d(y, warn=True)\n"
     ]
    },
    {
     "name": "stdout",
     "output_type": "stream",
     "text": [
      "Accuracy : 0.6086956521739131, Kernel : sigmoid, C : 5\n"
     ]
    },
    {
     "name": "stderr",
     "output_type": "stream",
     "text": [
      "/home/student/.local/lib/python3.10/site-packages/sklearn/utils/validation.py:1300: DataConversionWarning: A column-vector y was passed when a 1d array was expected. Please change the shape of y to (n_samples, ), for example using ravel().\n",
      "  y = column_or_1d(y, warn=True)\n"
     ]
    },
    {
     "name": "stdout",
     "output_type": "stream",
     "text": [
      "Accuracy : 0.7671497584541063, Kernel : poly, C : 5\n"
     ]
    }
   ],
   "source": [
    "kernels = [\"linear\",\"rbf\",\"sigmoid\",\"poly\"]\n",
    "\n",
    "for i in range(5):\n",
    "   for j in kernels:\n",
    "       svc2 = SVC(kernel=j, C=i+1)\n",
    "       svc2.fit(X_train,y_train)\n",
    "       y_pred = svc2.predict(X_test)\n",
    "       print(\"Accuracy : {acc}, Kernel : {k}, C : {x}\".format(acc=accuracy_score(y_pred,y_test),k=j, x = i+1))"
   ]
  },
  {
   "cell_type": "markdown",
   "id": "bf87e3d5-2bcf-4bf9-9e1f-4f233ce34fc0",
   "metadata": {},
   "source": [
    "https://www.javatpoint.com/major-kernel-functions-in-support-vector-machine"
   ]
  },
  {
   "cell_type": "code",
   "execution_count": null,
   "id": "c93a4765-5d7a-4c64-9d46-a9e14785f152",
   "metadata": {},
   "outputs": [],
   "source": []
  }
 ],
 "metadata": {
  "kernelspec": {
   "display_name": "Python 3 (ipykernel)",
   "language": "python",
   "name": "python3"
  },
  "language_info": {
   "codemirror_mode": {
    "name": "ipython",
    "version": 3
   },
   "file_extension": ".py",
   "mimetype": "text/x-python",
   "name": "python",
   "nbconvert_exporter": "python",
   "pygments_lexer": "ipython3",
   "version": "3.11.8"
  }
 },
 "nbformat": 4,
 "nbformat_minor": 5
}
